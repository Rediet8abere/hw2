{
 "cells": [
  {
   "cell_type": "code",
   "execution_count": 43,
   "metadata": {
    "scrolled": true
   },
   "outputs": [
    {
     "name": "stdout",
     "output_type": "stream",
     "text": [
      "0.241\n"
     ]
    }
   ],
   "source": [
    "import numpy as np\n",
    "from random import randint\n",
    "from numpy.random import choice\n",
    "\n",
    "event = ['H', 'T']\n",
    "weights = [0.3, 0.7]\n",
    "\n",
    "def verify_head(prob_head, num_flips):\n",
    "    \"\"\"Your function should then return the probability (float) of\n",
    "       tossing a coin num_flips times and getting some combination \n",
    "       of two heads and one tail, given that we know the probability \n",
    "       of getting a heads is prob_head\"\"\"\n",
    "    event = ['H', 'T']\n",
    "    counter = 0\n",
    "    for i in range(num_flips):\n",
    "        draw = choice(event, 3, p=[prob_head, 1-prob_head])\n",
    "        if draw.tolist() == ['H', 'T', 'H']:\n",
    "            counter += 1\n",
    "        elif draw.tolist() == ['T', 'H', 'H']:\n",
    "            counter += 1\n",
    "        elif draw.tolist() == ['H', 'H', 'T']:\n",
    "            counter += 1\n",
    "    return counter/num_flips\n",
    "        \n",
    "        \n",
    "\n",
    "print(verify_head(0.9, 1000))"
   ]
  },
  {
   "cell_type": "code",
   "execution_count": 41,
   "metadata": {
    "scrolled": true
   },
   "outputs": [
    {
     "name": "stdout",
     "output_type": "stream",
     "text": [
      "0.196\n"
     ]
    }
   ],
   "source": [
    "print(verify_head(0.3, 1000))"
   ]
  },
  {
   "cell_type": "code",
   "execution_count": 42,
   "metadata": {},
   "outputs": [
    {
     "data": {
      "text/plain": [
       "0.189"
      ]
     },
     "execution_count": 42,
     "metadata": {},
     "output_type": "execute_result"
    }
   ],
   "source": [
    "3*(0.3)**2*(1-0.3)"
   ]
  },
  {
   "cell_type": "code",
   "execution_count": null,
   "metadata": {},
   "outputs": [],
   "source": []
  },
  {
   "cell_type": "code",
   "execution_count": null,
   "metadata": {},
   "outputs": [],
   "source": []
  }
 ],
 "metadata": {
  "kernelspec": {
   "display_name": "Python 3",
   "language": "python",
   "name": "python3"
  },
  "language_info": {
   "codemirror_mode": {
    "name": "ipython",
    "version": 3
   },
   "file_extension": ".py",
   "mimetype": "text/x-python",
   "name": "python",
   "nbconvert_exporter": "python",
   "pygments_lexer": "ipython3",
   "version": "3.7.4"
  }
 },
 "nbformat": 4,
 "nbformat_minor": 2
}
