{
 "cells": [
  {
   "cell_type": "code",
   "execution_count": 1,
   "metadata": {},
   "outputs": [
    {
     "name": "stdout",
     "output_type": "stream",
     "text": [
      "From the trial prob of getting HHT or HTH or THH is 0.373; Prob of getting HHT or HTH or THH is: 0.375\n"
     ]
    }
   ],
   "source": [
    "import numpy as np\n",
    "from random import choices, randint\n",
    "\n",
    "event = ['H', 'T']\n",
    "\n",
    "# Here we are saying the probability of getting Heads is 0.3,\n",
    "# and that the probability of getting Tails is 0.7\n",
    "weights = [0.3, 0.7]\n",
    "\n",
    "# for _ in range(10):\n",
    "#     print(choices(event, weights))\n",
    "    \n",
    "# Look at the below print statement.\n",
    "# The number of Heads should be roughly 30%\n",
    "# and the number of Tails should be roughly 70%\n",
    "# You can change the range above to get more values,\n",
    "# and see the percentage increase\n",
    "\n",
    "\n",
    "# Write a function verify_head that we will use to verify if your \n",
    "# paper solution is correct. Your function should have two parameters:\n",
    "# prob_head: Probability of getting a 'Head' (type: float)\n",
    "# num_flips: Number of times we flip the coin (type: integer)\n",
    "\n",
    "def verify_head(prob_head, num_flips):\n",
    "    \"\"\"Your function should then return the probability (float) of\n",
    "       tossing a coin num_flips times and getting some combination \n",
    "       of two heads and one tail, given that we know the probability \n",
    "       of getting a heads is prob_head\"\"\"\n",
    "    event = ['H', 'T']\n",
    "    count = 10\n",
    "    # HHT or HTH or THH\n",
    "    # constructs the probability array\n",
    "    prob_three = []\n",
    "    for i in range(1000):\n",
    "        prob = []\n",
    "        #tossing the coin n flip times\n",
    "        for i in range(num_flips):\n",
    "            rand = randint(0,1)\n",
    "            prob.append(event[rand])\n",
    "        prob_three.append(prob)\n",
    "    \n",
    "    count_head_head = 0\n",
    "    for i in range(1000):\n",
    "        if prob_three[i] == ['H', 'H', 'T']:\n",
    "            count_head_head += 1\n",
    "        if prob_three[i] == ['H', 'T', 'H']:\n",
    "            count_head_head += 1\n",
    "        if prob_three[i] == ['T', 'H', 'H']:\n",
    "            count_head_head += 1\n",
    "    return f'From the trial prob of getting HHT or HTH or THH is {count_head_head/1000}; Prob of getting HHT or HTH or THH is: {prob_head}'\n",
    "# prob of getting head and num of flips \n",
    "print(verify_head(0.375, 3))"
   ]
  },
  {
   "cell_type": "code",
   "execution_count": null,
   "metadata": {},
   "outputs": [],
   "source": []
  },
  {
   "cell_type": "code",
   "execution_count": null,
   "metadata": {},
   "outputs": [],
   "source": []
  }
 ],
 "metadata": {
  "kernelspec": {
   "display_name": "Python 3",
   "language": "python",
   "name": "python3"
  },
  "language_info": {
   "codemirror_mode": {
    "name": "ipython",
    "version": 3
   },
   "file_extension": ".py",
   "mimetype": "text/x-python",
   "name": "python",
   "nbconvert_exporter": "python",
   "pygments_lexer": "ipython3",
   "version": "3.7.4"
  }
 },
 "nbformat": 4,
 "nbformat_minor": 2
}
